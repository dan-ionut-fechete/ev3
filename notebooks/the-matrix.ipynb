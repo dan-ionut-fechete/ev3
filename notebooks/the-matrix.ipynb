{
 "metadata": {
  "name": "",
  "signature": "sha256:4a5911c3f37f7fd1fd3c4247f6eb64aaa6531432e3ad94fa4183f4a9a20925ea"
 },
 "nbformat": 3,
 "nbformat_minor": 0,
 "worksheets": [
  {
   "cells": [
    {
     "cell_type": "code",
     "collapsed": false,
     "input": [
      "import logging\n",
      "import math\n",
      "import ast\n",
      "\n",
      "class SudokuMatrix(object):\n",
      "    \"\"\"Build monochrome matrix of the sudoku board.\n",
      "        You can add new scans to the matrix and then you can normalize the\n",
      "        results. Each scan is an arc of measurements.\n",
      "    \"\"\"\n",
      "\n",
      "    # The radius of the circle covered by the scanning device.\n",
      "    k_scanner_radius_mm = 48\n",
      "    # A map from coordinates to a list of measurements for that point in space.\n",
      "    measurements = {}\n",
      "\n",
      "    def add_scan(self, cx, cy, degrees, measures):\n",
      "        \"\"\"cx, cy center of the measuring device\n",
      "            degrees the size of the arc measured\n",
      "            measures the samples gathered while measuring (we assume these are\n",
      "                uniformly distributed along the movement arc).\n",
      "        \"\"\"\n",
      "        if len(measures) < 1:\n",
      "            logging.exception(\"No measurements provided\")\n",
      "        for i in range(0, len(measures)):\n",
      "            deg_moved = degrees * i / len(measures)\n",
      "            angle = math.radians(degrees / 2 - deg_moved)\n",
      "            a = self.k_scanner_radius_mm * math.cos(angle)\n",
      "            b = self.k_scanner_radius_mm * math.sin(angle)\n",
      "            px = cx - b\n",
      "            py = cy + a\n",
      "            # x axis sampling is twice as much as y axis\n",
      "            p = (int(math.floor(px * 2)), int(math.floor(py)))\n",
      "            if p not in self.measurements:\n",
      "                self.measurements[p] = []\n",
      "            self.measurements[p].append(measures[i])\n",
      "            print(px, py, measures[i])\n",
      "        print('Scan added')\n",
      "\n",
      "    def to_str(self):\n",
      "        return str(self.measurements)\n",
      "        \n",
      "    def dump_to_file(self, filename):\n",
      "        with open(filename, 'w') as f:\n",
      "            f.write(str(self.measurements))\n",
      "            f.close()\n",
      "\n",
      "    def load_from_file(self, filename):\n",
      "        fstr = \"\"\n",
      "        try:\n",
      "            with open(filename, 'r') as f:\n",
      "                fstr = f.read()\n",
      "                f.close()\n",
      "            self.measurements = ast.literal_eval(fstr)\n",
      "        except Exception as e:\n",
      "            print('Unable to load file:')\n",
      "            print(str(e))\n"
     ],
     "language": "python",
     "metadata": {},
     "outputs": [],
     "prompt_number": 1
    },
    {
     "cell_type": "code",
     "collapsed": false,
     "input": [
      "m = SudokuMatrix()"
     ],
     "language": "python",
     "metadata": {},
     "outputs": [],
     "prompt_number": 2
    },
    {
     "cell_type": "code",
     "collapsed": false,
     "input": [
      "m.load_from_file('/home/ch/ev3dev/share/python-ev3-master/new_center_scan.txt')"
     ],
     "language": "python",
     "metadata": {},
     "outputs": [],
     "prompt_number": 3
    },
    {
     "cell_type": "code",
     "collapsed": false,
     "input": [
      "a = m.measurements"
     ],
     "language": "python",
     "metadata": {},
     "outputs": [],
     "prompt_number": 4
    },
    {
     "cell_type": "code",
     "collapsed": false,
     "input": [
      "aav = dict()\n",
      "minx = 1 << 20\n",
      "maxx = - (1 << 20)\n",
      "miny = 1 << 20\n",
      "maxy = - (1 << 20)"
     ],
     "language": "python",
     "metadata": {},
     "outputs": [],
     "prompt_number": 5
    },
    {
     "cell_type": "code",
     "collapsed": false,
     "input": [
      "for k, v in a.iteritems():\n",
      "    aav[k] = sum(v)/len(v)\n",
      "    minx = min(minx, k[0])\n",
      "    maxx = max(maxx, k[0])\n",
      "    miny = min(miny, k[1])\n",
      "    maxy = max(maxy, k[1])"
     ],
     "language": "python",
     "metadata": {},
     "outputs": [],
     "prompt_number": 6
    },
    {
     "cell_type": "code",
     "collapsed": false,
     "input": [
      "maxx-minx, maxy-miny"
     ],
     "language": "python",
     "metadata": {},
     "outputs": [
      {
       "metadata": {},
       "output_type": "pyout",
       "prompt_number": 7,
       "text": [
        "(72, 35)"
       ]
      }
     ],
     "prompt_number": 7
    },
    {
     "cell_type": "code",
     "collapsed": false,
     "input": [
      "arr = []\n",
      "for i in range(minx, maxx):\n",
      "    arr.append([])\n",
      "    for j in range(miny, maxy):\n",
      "        arr[i - minx].append(aav.get((i, j), 0))\n",
      "import numpy as np\n",
      "arr = np.array(arr)"
     ],
     "language": "python",
     "metadata": {},
     "outputs": [],
     "prompt_number": 8
    },
    {
     "cell_type": "code",
     "collapsed": false,
     "input": [
      "import matplotlib.pyplot as plt\n",
      "import numpy as np\n",
      "%matplotlib inline"
     ],
     "language": "python",
     "metadata": {},
     "outputs": [],
     "prompt_number": 9
    },
    {
     "cell_type": "code",
     "collapsed": false,
     "input": [
      "plt.imshow(np.rot90(arr), cmap=plt.cm.gray, interpolation='none')"
     ],
     "language": "python",
     "metadata": {},
     "outputs": [
      {
       "metadata": {},
       "output_type": "pyout",
       "prompt_number": 10,
       "text": [
        "<matplotlib.image.AxesImage at 0x7f51f5f49590>"
       ]
      },
      {
       "metadata": {},
       "output_type": "display_data",
       "png": "[encoded data removed]",
       "text": [
        "<matplotlib.figure.Figure at 0x7f51f5fad590>"
       ]
      }
     ],
     "prompt_number": 10
    },
    {
     "cell_type": "code",
     "collapsed": false,
     "input": [
      "plt.matshow(np.rot90(arr))"
     ],
     "language": "python",
     "metadata": {},
     "outputs": [
      {
       "metadata": {},
       "output_type": "pyout",
       "prompt_number": 11,
       "text": [
        "<matplotlib.image.AxesImage at 0x7f51f5e4d110>"
       ]
      },
      {
       "metadata": {},
       "output_type": "display_data",
       "png": "[encoded data removed]",
       "text": [
        "<matplotlib.figure.Figure at 0x7f520318cc90>"
       ]
      }
     ],
     "prompt_number": 11
    },
    {
     "cell_type": "code",
     "collapsed": false,
     "input": [
      "from skimage import data, io\n",
      "import skimage as si\n",
      "import skimage.filter as skf"
     ],
     "language": "python",
     "metadata": {},
     "outputs": [],
     "prompt_number": 13
    },
    {
     "cell_type": "code",
     "collapsed": true,
     "input": [
      "\n",
      "io.imshow(skf.sobel(np.rot90(arr.astype(numpy.float64))))"
     ],
     "language": "python",
     "metadata": {},
     "outputs": [
      {
       "ename": "NameError",
       "evalue": "name 'numpy' is not defined",
       "output_type": "pyerr",
       "traceback": [
        "\u001b[1;31m---------------------------------------------------------------------------\u001b[0m\n\u001b[1;31mNameError\u001b[0m                                 Traceback (most recent call last)",
        "\u001b[1;32m<ipython-input-15-be0307dd4868>\u001b[0m in \u001b[0;36m<module>\u001b[1;34m()\u001b[0m\n\u001b[0;32m      1\u001b[0m \u001b[1;33m\u001b[0m\u001b[0m\n\u001b[1;32m----> 2\u001b[1;33m \u001b[0mio\u001b[0m\u001b[1;33m.\u001b[0m\u001b[0mimshow\u001b[0m\u001b[1;33m(\u001b[0m\u001b[0mskf\u001b[0m\u001b[1;33m.\u001b[0m\u001b[0msobel\u001b[0m\u001b[1;33m(\u001b[0m\u001b[0mnp\u001b[0m\u001b[1;33m.\u001b[0m\u001b[0mrot90\u001b[0m\u001b[1;33m(\u001b[0m\u001b[0marr\u001b[0m\u001b[1;33m.\u001b[0m\u001b[0mastype\u001b[0m\u001b[1;33m(\u001b[0m\u001b[0mnumpy\u001b[0m\u001b[1;33m.\u001b[0m\u001b[0mfloat64\u001b[0m\u001b[1;33m)\u001b[0m\u001b[1;33m)\u001b[0m\u001b[1;33m)\u001b[0m\u001b[1;33m)\u001b[0m\u001b[1;33m\u001b[0m\u001b[0m\n\u001b[0m",
        "\u001b[1;31mNameError\u001b[0m: name 'numpy' is not defined"
       ]
      }
     ],
     "prompt_number": 15
    },
    {
     "cell_type": "code",
     "collapsed": false,
     "input": [],
     "language": "python",
     "metadata": {},
     "outputs": [],
     "prompt_number": 29
    },
    {
     "cell_type": "code",
     "collapsed": false,
     "input": [],
     "language": "python",
     "metadata": {},
     "outputs": []
    },
    {
     "cell_type": "code",
     "collapsed": false,
     "input": [],
     "language": "python",
     "metadata": {},
     "outputs": [],
     "prompt_number": 13
    },
    {
     "cell_type": "code",
     "collapsed": false,
     "input": [],
     "language": "python",
     "metadata": {},
     "outputs": []
    },
    {
     "cell_type": "code",
     "collapsed": false,
     "input": [],
     "language": "python",
     "metadata": {},
     "outputs": []
    },
    {
     "cell_type": "code",
     "collapsed": false,
     "input": [],
     "language": "python",
     "metadata": {},
     "outputs": []
    }
   ],
   "metadata": {}
  }
 ]
}