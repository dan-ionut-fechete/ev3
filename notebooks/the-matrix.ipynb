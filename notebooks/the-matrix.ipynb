{
 "metadata": {
  "name": "",
  "signature": "sha256:172e3b98795c43f21227091697e7813b455439cdb713ccf1b91764c091fe3846"
 },
 "nbformat": 3,
 "nbformat_minor": 0,
 "worksheets": [
  {
   "cells": [
    {
     "cell_type": "code",
     "collapsed": false,
     "input": [
      "import logging\n",
      "import math\n",
      "import ast\n",
      "\n",
      "class SudokuMatrix(object):\n",
      "    \"\"\"\n",
      "    Build monochrome matrix of the sudoku board.\n",
      "    You can add new scans to the matrix and then you can normalize the\n",
      "    results. Each scan is an arc of measurements.\n",
      "    \"\"\"\n",
      "\n",
      "    # The radius of the circle covered by the scanning device.\n",
      "    k_scanner_radius_mm = 48\n",
      "    # A map from coordinates to a list of measurements for that point in space.\n",
      "    measurements = {}\n",
      "\n",
      "    def add_scan(self, cx, cy, degrees, measures):\n",
      "        \"\"\"cx, cy center of the measuring device\n",
      "            degrees the size of the arc measured\n",
      "            measures the samples gathered while measuring (we assume these are\n",
      "                uniformly distributed along the movement arc).\n",
      "        \"\"\"\n",
      "        if len(measures) < 1:\n",
      "            logging.exception(\"No measurements provided\")\n",
      "        for i in range(0, len(measures)):\n",
      "            deg_moved = degrees * i / len(measures)\n",
      "            angle = math.radians(degrees / 2 - deg_moved)\n",
      "            a = self.k_scanner_radius_mm * math.cos(angle)\n",
      "            b = self.k_scanner_radius_mm * math.sin(angle)\n",
      "            px = cx - b\n",
      "            py = cy + a\n",
      "            # x axis sampling is twice as much as y axis\n",
      "            p = (int(math.floor(px * 2)), int(math.floor(py)))\n",
      "            if p not in self.measurements:\n",
      "                self.measurements[p] = []\n",
      "            self.measurements[p].append(measures[i])\n",
      "            print(px, py, measures[i])\n",
      "        print('Scan added')\n",
      "\n",
      "    def to_str(self):\n",
      "        return str(self.measurements)\n",
      "        \n",
      "    def dump_to_file(self, filename):\n",
      "        with open(filename, 'w') as f:\n",
      "            f.write(str(self.measurements))\n",
      "            f.close()\n",
      "\n",
      "    def load_from_file(self, filename):\n",
      "        fstr = \"\"\n",
      "        try:\n",
      "            with open(filename, 'r') as f:\n",
      "                fstr = f.read()\n",
      "                f.close()\n",
      "            self.measurements = ast.literal_eval(fstr)\n",
      "        except Exception as e:\n",
      "            print('Unable to load file:')\n",
      "            print(str(e))\n"
     ],
     "language": "python",
     "metadata": {},
     "outputs": [],
     "prompt_number": 2
    },
    {
     "cell_type": "code",
     "collapsed": false,
     "input": [
      "import numpy as np\n",
      "import skimage.filter\n",
      "from skimage.morphology import disk\n",
      "from skimage.filter import rank\n",
      "\n",
      "class SudokuBoardImage(object):\n",
      "    \"\"\"\n",
      "    Represents a grayscale image of a sudoku board constructed from a SudokuMatrix.    \n",
      "    \"\"\"\n",
      "    \n",
      "    def __init__(self, file_name):\n",
      "        self.load_scan(file_name)\n",
      "        self.image = self.build_image(self.m)\n",
      "    \n",
      "    def load_scan(self, file_name):\n",
      "        self.m = SudokuMatrix()\n",
      "        self.m.load_from_file('/home/ch/ev3dev/share/ev3-repo/' + file_name)        \n",
      "    \n",
      "    def build_image(self, m):\n",
      "        \"\"\"\n",
      "          Convert the measurements in a SudokuMatrix into a numpy array.\n",
      "        \"\"\"\n",
      "        a = m.measurements\n",
      "        aav = dict()\n",
      "        minx = 1 << 20\n",
      "        maxx = - (1 << 20)\n",
      "        miny = 1 << 20\n",
      "        maxy = - (1 << 20)\n",
      "\n",
      "        for k, v in a.iteritems():\n",
      "            aav[k] = sum(v)/len(v)\n",
      "            minx = min(minx, k[0])\n",
      "            maxx = max(maxx, k[0])\n",
      "            miny = min(miny, k[1])\n",
      "            maxy = max(maxy, k[1])\n",
      "\n",
      "        arr = []\n",
      "        for i in range(minx, maxx):\n",
      "            arr.append([])\n",
      "            for j in range(miny, maxy):\n",
      "                arr[i - minx].append(aav.get((i, j), 0))\n",
      "        # We need to rotate the array and trim the top and bottom.    \n",
      "        return np.rot90(np.array(arr)[:,15:-10])\n",
      "        \n",
      "    def edges(self):        \n",
      "        thresh = rank.otsu(self.image.astype(np.uint8), disk(5))\n",
      "        return self.image < thresh * 0.7\n",
      "    \n",
      "    @property\n",
      "    def img(self):\n",
      "        return self.image\n",
      "\n",
      "    def dedupe_digit_rectangles(self, coords, size):\n",
      "        \"\"\"\n",
      "        Uses a greedy approach to remove all overlapping digit rectangles\n",
      "        Assumes the coordinates are sorted by row and then by col\n",
      "        \"\"\"\n",
      "        dc = []\n",
      "\n",
      "        for (i, j) in coords:\n",
      "            intersects = False\n",
      "            for (x, y) in dc:\n",
      "                if abs(y - j) < size and abs(x - i) < size:\n",
      "                    intersects = True\n",
      "                    break\n",
      "            if intersects:\n",
      "                continue\n",
      "            dc.append((i, j))\n",
      "        return dc\n",
      "\n",
      "    def digit_coordinates(self):\n",
      "        \"\"\"\n",
      "        Return a set of coordinates that are the most likely lower right corners of a digit\n",
      "        sum_h and sum_v not used for now.\n",
      "        \"\"\"\n",
      "        k_size = 16\n",
      "        k_perim_thr = .04\n",
      "        k_area_thr = .08\n",
      "\n",
      "        edges = self.edges()\n",
      "        sum_h = np.zeros(edges.shape)\n",
      "        sum_v = np.zeros(edges.shape)\n",
      "        sum_all = np.zeros(edges.shape)\n",
      "\n",
      "        for (i, j), value in np.ndenumerate(edges):\n",
      "            # Compute the cumulative sums\n",
      "            if i == 0 and j == 0:\n",
      "                sum_h[i, j] = sum_v[i, j] = sum_all[i, j] = edges[i, j]\n",
      "            elif i == 0:\n",
      "                sum_h[i, j] = sum_all[i, j] = sum_h[i, j - 1] + edges[i, j]\n",
      "            elif j == 0:\n",
      "                sum_v[i, j] = sum_all[i, j] = sum_v[i - 1, j] + edges[i, j]\n",
      "            else:\n",
      "                sum_h[i, j] = sum_h[i, j - 1] + edges[i, j]\n",
      "                sum_v[i, j] = sum_v[i - 1, j] + edges[i, j]\n",
      "                sum_all[i, j] = edges[i, j] + sum_all[i - 1, j] + sum_all[i, j- 1] - sum_all[i - 1, j - 1]\n",
      "\n",
      "        def sq_sum(m, i, j, size):\n",
      "            # Computes the sum of a subsquare in a matrix with the end in i, j\n",
      "            # m should be a matrix of cumulative sums.\n",
      "\n",
      "            return (m[i, j] - \n",
      "                    (m[i, j - size] if j - size >= 0 else 0) -\n",
      "                    (m[i - size, j] if i - size >= 0 else 0) +\n",
      "                    (m[i - size, j - size] if i - size >= 0 and j - size >= 0 else 0))\n",
      "\n",
      "        i = j = k_size - 1\n",
      "        corners = []\n",
      "        # We know digits don't overlap so when we find a digit we can skip\n",
      "        # some rows and columns.\n",
      "        found = False \n",
      "\n",
      "        while i < edges.shape[0] and j < edges.shape[1]:\n",
      "            perim_and_inside = sq_sum(sum_all, i, j, k_size)\n",
      "            inside = sq_sum(sum_all, i - 1, j - 1, k_size - 2)\n",
      "            perim = perim_and_inside - inside\n",
      "\n",
      "            if perim < (k_size * 4 - 4) * k_perim_thr:\n",
      "                if inside > (k_size * k_size) * k_area_thr:\n",
      "                    corners.append((i, j))            \n",
      "                    # j += k_size - 1\n",
      "                    found = True\n",
      "\n",
      "            j += 1\n",
      "            if j >= edges.shape[1]:\n",
      "                j = k_size - 1\n",
      "                i += 1 #(1 if not found else k_size)\n",
      "                \n",
      "        return self.dedupe_digit_rectangles(corners, k_size)\n",
      "\n",
      "    def digit_coordinates_img(self):\n",
      "        coord = self.digit_coordinates()\n",
      "        \n",
      "        res = np.zeros(self.image.shape)\n",
      "        for (i, j) in coord:\n",
      "            for k in xrange(10):\n",
      "                res[i, j -  k] = res[i - k, j] = 1\n",
      "                \n",
      "        return res\n",
      "    \n",
      "def center_of_mass(matrix):\n",
      "    total = 0.0\n",
      "    mx = 0.0\n",
      "    my = 0.0\n",
      "    for i in xrange(0, len(matrix)):\n",
      "        for j in xrange(0, len(matrix[i])):\n",
      "            total += matrix[i][j]\n",
      "            mx += matrix[i][j] * i\n",
      "            my += matrix[i][j] * j\n",
      "    return [mx / total, my / total]\n",
      "\n",
      "def distance(p1, p2):\n",
      "    return math.sqrt((p1[0] - p2[0]) * (p1[0] - p2[0]) + (p1[1] - p2[1]) * (p1[1] - p2[1]))\n",
      "            \n",
      "def center_of_mass_filter(image):\n",
      "    k_kernel_size = 8\n",
      "    res = np.zeros(image.shape)\n",
      "    \n",
      "    for i in xrange(k_kernel_size, len(image) - k_kernel_size + 1):\n",
      "        for j in xrange(k_kernel_size, len(image[i]) - k_kernel_size + 1):\n",
      "            cm = center_of_mass(image[i - k_kernel_size: i + k_kernel_size, j - k_kernel_size: j + k_kernel_size])\n",
      "            d1 = abs(cm[0] - k_kernel_size)\n",
      "            d2 = abs(cm[1] - k_kernel_size)\n",
      "            res[i][j] = 100 if d1 < 0.2 and d2 < 0.2 else 0 \n",
      "    return res"
     ],
     "language": "python",
     "metadata": {},
     "outputs": [],
     "prompt_number": 325
    },
    {
     "cell_type": "code",
     "collapsed": false,
     "input": [
      "left = SudokuBoardImage('slim_left.txt')\n",
      "center = SudokuBoardImage('slim_center.txt')\n",
      "right = SudokuBoardImage('slim_right.txt')"
     ],
     "language": "python",
     "metadata": {},
     "outputs": [],
     "prompt_number": 326
    },
    {
     "cell_type": "code",
     "collapsed": false,
     "input": [
      "import matplotlib.pyplot as plt\n",
      "import numpy as np\n",
      "%matplotlib inline"
     ],
     "language": "python",
     "metadata": {},
     "outputs": [],
     "prompt_number": 116
    },
    {
     "cell_type": "code",
     "collapsed": false,
     "input": [
      "plt.subplot(1, 3, 1)\n",
      "plt.imshow(left.img, cmap=plt.cm.gray, interpolation='none')\n",
      "plt.subplot(1, 3, 2)\n",
      "plt.imshow(center.img, cmap=plt.cm.gray, interpolation='none')\n",
      "plt.subplot(1, 3, 3)\n",
      "plt.imshow(right.img, cmap=plt.cm.gray, interpolation='none')\n",
      "plt.show()"
     ],
     "language": "python",
     "metadata": {},
     "outputs": [
      {
       "metadata": {},
       "output_type": "display_data",
       "png": "[encoded data removed]",
       "text": [
        "<matplotlib.figure.Figure at 0x7febdd391710>"
       ]
      }
     ],
     "prompt_number": 117
    },
    {
     "cell_type": "code",
     "collapsed": false,
     "input": [
      "#plt.imshow(right.edges(), cmap=plt.cm.gray, interpolation='none')\n",
      "im = center.img\n",
      "#im = skimage.filter.sobel(im.astype(np.float64))\n",
      "thresh = skimage.filter.threshold_otsu(im.astype(np.float64))\n",
      "plt.imshow(im < thresh * 0.6, cmap=plt.cm.gray, interpolation='none')\n",
      "# plt.imshow(im, cmap=plt.cm.gray, interpolation='none')"
     ],
     "language": "python",
     "metadata": {},
     "outputs": [
      {
       "metadata": {},
       "output_type": "pyout",
       "prompt_number": 179,
       "text": [
        "<matplotlib.image.AxesImage at 0x7febcdb70290>"
       ]
      },
      {
       "metadata": {},
       "output_type": "display_data",
       "png": "[encoded data removed]",
       "text": [
        "<matplotlib.figure.Figure at 0x7febce4e6ad0>"
       ]
      }
     ],
     "prompt_number": 179
    },
    {
     "cell_type": "code",
     "collapsed": false,
     "input": [
      "from skimage import data\n",
      "from skimage.morphology import disk\n",
      "from skimage.filter import threshold_otsu, rank\n",
      "from skimage.util import img_as_ubyte\n",
      "\n",
      "img = center.img.astype(np.uint8)\n",
      "#img = enhance_contrast(bilat, disk(3))\n",
      "local_otsu = rank.otsu(img, disk(5))\n",
      "plt.imshow(center.img <= local_otsu * 0.7, cmap=plt.cm.gray, interpolation='none')"
     ],
     "language": "python",
     "metadata": {},
     "outputs": [
      {
       "metadata": {},
       "output_type": "pyout",
       "prompt_number": 264,
       "text": [
        "<matplotlib.image.AxesImage at 0x7febc9e5c090>"
       ]
      },
      {
       "metadata": {},
       "output_type": "display_data",
       "png": "[encoded data removed]",
       "text": [
        "<matplotlib.figure.Figure at 0x7febc9e67a90>"
       ]
      }
     ],
     "prompt_number": 264
    },
    {
     "cell_type": "code",
     "collapsed": false,
     "input": [
      "from skimage.filter.rank import mean_bilateral, enhance_contrast\n",
      "bilat = mean_bilateral(center.img.astype(np.uint16), disk(16), s0=8, s1=8)\n",
      "bilat = enhance_contrast(bilat, disk(3))\n",
      "plt.imshow(bilat, cmap=plt.cm.gray, interpolation='none')"
     ],
     "language": "python",
     "metadata": {},
     "outputs": [
      {
       "metadata": {},
       "output_type": "pyout",
       "prompt_number": 250,
       "text": [
        "<matplotlib.image.AxesImage at 0x7febca85b390>"
       ]
      },
      {
       "metadata": {},
       "output_type": "display_data",
       "png": "[encoded data removed]",
       "text": [
        "<matplotlib.figure.Figure at 0x7febca8d9550>"
       ]
      }
     ],
     "prompt_number": 250
    },
    {
     "cell_type": "code",
     "collapsed": false,
     "input": [
      "def pc(l):\n",
      "    plt.imshow(edges[l[0] - 15:l[0], l[1] - 15:l[1]], cmap=plt.cm.gray, interpolation='none')\n",
      "\n",
      "plt.subplot(1, 2, 1)\n",
      "plt.imshow(center.edges(), cmap=plt.cm.gray, interpolation='none')\n",
      "plt.subplot(1, 2, 2)\n",
      "plt.imshow(center.digit_coordinates_img(), cmap=plt.cm.gray, interpolation='none')"
     ],
     "language": "python",
     "metadata": {},
     "outputs": [
      {
       "metadata": {},
       "output_type": "pyout",
       "prompt_number": 328,
       "text": [
        "<matplotlib.image.AxesImage at 0x7febc2b3e610>"
       ]
      },
      {
       "metadata": {},
       "output_type": "display_data",
       "png": "[encoded data removed]",
       "text": [
        "<matplotlib.figure.Figure at 0x7febce8cbc50>"
       ]
      }
     ],
     "prompt_number": 328
    },
    {
     "cell_type": "code",
     "collapsed": false,
     "input": [
      "\n",
      "\n",
      "len(dedupe_digit_rectangles(right.digit_coordinates(), 16))"
     ],
     "language": "python",
     "metadata": {},
     "outputs": [
      {
       "metadata": {},
       "output_type": "pyout",
       "prompt_number": 317,
       "text": [
        "9"
       ]
      }
     ],
     "prompt_number": 317
    },
    {
     "cell_type": "code",
     "collapsed": false,
     "input": [
      "# Author: Gael Varoquaux <gael dot varoquaux at normalesup dot org>\n",
      "# License: BSD 3 clause\n",
      "\n",
      "# Standard scientific Python imports\n",
      "import matplotlib.pyplot as plt\n",
      "\n",
      "# Import datasets, classifiers and performance metrics\n",
      "from sklearn import datasets, svm, metrics\n",
      "from sklearn.ensemble import GradientBoostingClassifier\n",
      "\n",
      "# The digits dataset\n",
      "digits = datasets.load_digits()\n",
      "\n",
      "# The data that we are interested in is made of 8x8 images of digits, let's\n",
      "# have a look at the first 3 images, stored in the `images` attribute of the\n",
      "# dataset.  If we were working from image files, we could load them using\n",
      "# pylab.imread.  Note that each image must have the same size. For these\n",
      "# images, we know which digit they represent: it is given in the 'target' of\n",
      "# the dataset.\n",
      "def dou(matrix):\n",
      "    dr = []\n",
      "    for row in matrix:\n",
      "        q = []\n",
      "        for j in row:\n",
      "            q += [j, j]        \n",
      "        dr += [q, q]\n",
      "    return dr\n",
      "\n",
      "images_and_labels = list(zip(digits.images, digits.target))\n",
      "for index, (image, label) in enumerate(images_and_labels[:4]):\n",
      "    plt.subplot(2, 4, index + 1)\n",
      "    plt.axis('off')\n",
      "    plt.imshow(dou(image), cmap=plt.cm.gray_r, interpolation='none')\n",
      "    plt.title('Training: %i' % label)\n",
      "\n",
      "# To apply a classifier on this data, we need to flatten the image, to\n",
      "# turn the data in a (samples, feature) matrix:\n",
      "n_samples = len(digits.images)\n",
      "\n",
      "# Resize the images\n",
      "big_images = np.asarray([skf.threshold_adaptive(np.asarray(dou(im)), 16).astype(np.int32) for im in digits.images])\n",
      "data = big_images.reshape((n_samples, -1))\n",
      "\n",
      "# Create a classifier: a support vector classifier\n",
      "classifier = svm.SVC(gamma=0.001)\n",
      "\n",
      "# We learn the digits on the first half of the digits\n",
      "classifier.fit(data[:n_samples / 2], digits.target[:n_samples / 2])\n",
      "\n",
      "# Now predict the value of the digit on the second half:\n",
      "expected = digits.target[n_samples / 2:]\n",
      "predicted = classifier.predict(data[n_samples / 2:])\n",
      "\n",
      "print(\"Classification report for classifier %s:\\n%s\\n\"\n",
      "      % (classifier, metrics.classification_report(expected, predicted)))\n",
      "print(\"Confusion matrix:\\n%s\" % metrics.confusion_matrix(expected, predicted))\n",
      "\n",
      "images_and_predictions = list(zip(digits.images[n_samples / 2:], predicted))\n",
      "for index, (image, prediction) in enumerate(images_and_predictions[:4]):\n",
      "    plt.subplot(2, 4, index + 5)\n",
      "    plt.axis('off')\n",
      "    plt.imshow(image, cmap=plt.cm.gray_r, interpolation='nearest')\n",
      "    plt.title('Prediction: %i' % prediction)\n",
      "\n",
      "plt.show()"
     ],
     "language": "python",
     "metadata": {},
     "outputs": [
      {
       "output_type": "stream",
       "stream": "stdout",
       "text": [
        "Classification report for classifier SVC(C=1.0, cache_size=200, class_weight=None, coef0=0.0, degree=3,\n",
        "  gamma=0.001, kernel='rbf', max_iter=-1, probability=False,\n",
        "  random_state=None, shrinking=True, tol=0.001, verbose=False):\n",
        "             precision    recall  f1-score   support\n",
        "\n",
        "          0       0.97      0.98      0.97        88\n",
        "          1       0.93      0.85      0.89        91\n",
        "          2       0.87      0.87      0.87        86\n",
        "          3       0.87      0.85      0.86        91\n",
        "          4       0.99      0.92      0.96        92\n",
        "          5       0.85      0.87      0.86        91\n",
        "          6       0.97      0.98      0.97        91\n",
        "          7       0.89      0.94      0.92        89\n",
        "          8       0.92      0.74      0.82        88\n",
        "          9       0.72      0.91      0.81        92\n",
        "\n",
        "avg / total       0.90      0.89      0.89       899\n",
        "\n",
        "\n",
        "Confusion matrix:\n",
        "[[86  0  0  0  0  1  0  0  1  0]\n",
        " [ 0 77  6  1  0  0  1  0  1  5]\n",
        " [ 1  0 75  6  0  0  0  0  1  3]\n",
        " [ 0  1  1 77  0  3  0  4  1  4]\n",
        " [ 2  1  0  0 85  1  0  2  1  0]\n",
        " [ 0  0  0  0  0 79  1  0  0 11]\n",
        " [ 0  1  1  0  0  0 89  0  0  0]\n",
        " [ 0  1  1  0  1  2  0 84  0  0]\n",
        " [ 0  2  2  3  0  4  1  2 65  9]\n",
        " [ 0  0  0  2  0  3  0  2  1 84]]\n"
       ]
      },
      {
       "metadata": {},
       "output_type": "display_data",
       "png": "[encoded data removed]",
       "text": [
        "<matplotlib.figure.Figure at 0x7fbfffd69910>"
       ]
      }
     ],
     "prompt_number": 232
    },
    {
     "cell_type": "code",
     "collapsed": false,
     "input": [
      "print np.max(digits.images)\n",
      "seven_normalized = (3 - ((seven - np.min(seven)) * 4 / (np.max(seven) - np.min(seven)))) * 4\n",
      "print classifier.predict(np.asarray(dou(digits.images[17])).flatten())\n",
      "print classifier.predict(seven_normalized.astype(np.float64).flatten())"
     ],
     "language": "python",
     "metadata": {},
     "outputs": [
      {
       "output_type": "stream",
       "stream": "stdout",
       "text": [
        "16.0\n",
        "[7]\n",
        "[8]\n"
       ]
      }
     ],
     "prompt_number": 170
    },
    {
     "cell_type": "code",
     "collapsed": false,
     "input": [
      "seven_normalized"
     ],
     "language": "python",
     "metadata": {},
     "outputs": [
      {
       "metadata": {},
       "output_type": "pyout",
       "prompt_number": 171,
       "text": [
        "array([[ 0,  0,  0,  0,  0,  0,  0,  0,  0,  0,  0,  0,  0,  0,  0,  0],\n",
        "       [ 0,  0,  0,  0,  0,  0,  0,  0,  0,  0,  0,  0,  0,  0,  0,  0],\n",
        "       [ 0,  0,  0,  0,  0,  0,  0,  0,  0,  0,  0,  0,  0,  0,  0,  0],\n",
        "       [ 0,  0,  0,  0,  4,  0,  4,  4,  8,  4,  8,  4,  4,  4,  0,  0],\n",
        "       [ 0,  0,  0,  4,  8,  8, 12,  8, 12, 12,  8,  8,  4,  4,  0,  0],\n",
        "       [ 0,  0,  4,  8,  8,  8,  8,  8,  8,  8, 12, 12,  4,  0,  0,  0],\n",
        "       [ 0,  0,  0,  4,  0,  0,  4,  8,  8, 12, 12, 12,  4,  0,  0,  0],\n",
        "       [ 0,  0,  0,  0,  0,  0,  0,  4, 12, 12,  8,  4,  0,  0,  0,  0],\n",
        "       [ 0,  0,  0,  0,  0,  0,  4,  8, 12, 12,  8,  4,  0,  0,  0,  0],\n",
        "       [ 0,  0, -4,  0,  0,  0, 12, 12, 12, 12,  4,  4,  0,  0,  0,  0],\n",
        "       [ 0,  0,  0,  0,  4,  4, 12, 12, 12,  8,  4,  0,  0,  0,  0,  0],\n",
        "       [ 0,  0,  0,  0,  8,  8, 12, 12,  8,  4,  0,  0,  0,  0,  0,  0],\n",
        "       [ 0,  0,  0,  4,  8, 12, 12, 12,  4,  0,  0,  0,  0,  0,  0,  0],\n",
        "       [ 0,  0,  0,  4,  4,  8,  4,  4,  0,  0,  0,  0,  0,  0,  0,  0],\n",
        "       [ 0,  0,  0,  0,  0,  0,  0,  0,  0,  0,  0,  0,  0,  0,  0,  0],\n",
        "       [ 0,  0,  0,  0,  4,  0,  4,  0,  4,  0,  4,  0,  4,  4,  0,  0]])"
       ]
      }
     ],
     "prompt_number": 171
    },
    {
     "cell_type": "code",
     "collapsed": false,
     "input": [
      "np.asarray(dou(digits.images[17])).astype(np.int32)"
     ],
     "language": "python",
     "metadata": {},
     "outputs": [
      {
       "metadata": {},
       "output_type": "pyout",
       "prompt_number": 168,
       "text": [
        "array([[ 0,  0,  0,  0,  1,  1,  8,  8, 15, 15, 10, 10,  0,  0,  0,  0],\n",
        "       [ 0,  0,  0,  0,  1,  1,  8,  8, 15, 15, 10, 10,  0,  0,  0,  0],\n",
        "       [ 0,  0,  3,  3, 13, 13, 15, 15, 14, 14, 14, 14,  0,  0,  0,  0],\n",
        "       [ 0,  0,  3,  3, 13, 13, 15, 15, 14, 14, 14, 14,  0,  0,  0,  0],\n",
        "       [ 0,  0,  5,  5, 10, 10,  0,  0, 10, 10, 12, 12,  0,  0,  0,  0],\n",
        "       [ 0,  0,  5,  5, 10, 10,  0,  0, 10, 10, 12, 12,  0,  0,  0,  0],\n",
        "       [ 0,  0,  0,  0,  3,  3,  5,  5, 15, 15, 10, 10,  2,  2,  0,  0],\n",
        "       [ 0,  0,  0,  0,  3,  3,  5,  5, 15, 15, 10, 10,  2,  2,  0,  0],\n",
        "       [ 0,  0,  0,  0, 16, 16, 16, 16, 16, 16, 16, 16, 12, 12,  0,  0],\n",
        "       [ 0,  0,  0,  0, 16, 16, 16, 16, 16, 16, 16, 16, 12, 12,  0,  0],\n",
        "       [ 0,  0,  1,  1,  8,  8, 12, 12, 14, 14,  8,  8,  3,  3,  0,  0],\n",
        "       [ 0,  0,  1,  1,  8,  8, 12, 12, 14, 14,  8,  8,  3,  3,  0,  0],\n",
        "       [ 0,  0,  0,  0,  0,  0, 10, 10, 13, 13,  0,  0,  0,  0,  0,  0],\n",
        "       [ 0,  0,  0,  0,  0,  0, 10, 10, 13, 13,  0,  0,  0,  0,  0,  0],\n",
        "       [ 0,  0,  0,  0,  0,  0, 11, 11,  9,  9,  0,  0,  0,  0,  0,  0],\n",
        "       [ 0,  0,  0,  0,  0,  0, 11, 11,  9,  9,  0,  0,  0,  0,  0,  0]], dtype=int32)"
       ]
      }
     ],
     "prompt_number": 168
    },
    {
     "cell_type": "code",
     "collapsed": false,
     "input": [
      "for index, (image, label) in enumerate(images_and_labels[16:20]):\n",
      "    plt.subplot(2, 4, index + 1)\n",
      "    plt.axis('off')\n",
      "    plt.imshow(dou(seven_normalized), cmap=plt.cm.gray_r, interpolation='nearest')\n",
      "    plt.title('Training: %i' % label)"
     ],
     "language": "python",
     "metadata": {},
     "outputs": [
      {
       "metadata": {},
       "output_type": "display_data",
       "png": "[encoded data removed]",
       "text": [
        "<matplotlib.figure.Figure at 0x7fc00012e310>"
       ]
      }
     ],
     "prompt_number": 172
    },
    {
     "cell_type": "code",
     "collapsed": false,
     "input": [
      "from sklearn.ensemble import GradientBoostingClassifier\n",
      "# BDT\n",
      "classifier_BDT = GradientBoostingClassifier(n_estimators=100, learning_rate=1.0, max_depth=12, random_state=3)\n",
      "\n",
      "# We learn the digits on the first half of the digits\n",
      "classifier_BDT.fit(data[:n_samples / 2], digits.target[:n_samples / 2])\n",
      "\n",
      "# Now predict the value of the digit on the second half:\n",
      "expected = digits.target[n_samples / 2:]\n",
      "predicted = classifier_BDT.predict(data[n_samples / 2:])\n",
      "\n",
      "print(\"Classification report for classifier %s:\\n%s\\n\"\n",
      "      % (classifier_BDT, metrics.classification_report(expected, predicted)))\n",
      "print(\"Confusion matrix:\\n%s\" % metrics.confusion_matrix(expected, predicted))"
     ],
     "language": "python",
     "metadata": {},
     "outputs": [
      {
       "output_type": "stream",
       "stream": "stdout",
       "text": [
        "Classification report for classifier GradientBoostingClassifier(init=None, learning_rate=1.0, loss='deviance',\n",
        "              max_depth=12, max_features=None, max_leaf_nodes=None,\n",
        "              min_samples_leaf=1, min_samples_split=2, n_estimators=100,\n",
        "              random_state=3, subsample=1.0, verbose=0, warm_start=False):\n",
        "             precision    recall  f1-score   support\n",
        "\n",
        "          0       0.94      0.97      0.96        88\n",
        "          1       0.90      0.82      0.86        91\n",
        "          2       0.85      0.90      0.87        86\n",
        "          3       0.84      0.74      0.78        91\n",
        "          4       0.96      0.71      0.81        92\n",
        "          5       0.89      0.88      0.88        91\n",
        "          6       0.96      0.97      0.96        91\n",
        "          7       0.90      0.90      0.90        89\n",
        "          8       0.77      0.61      0.68        88\n",
        "          9       0.56      0.89      0.69        92\n",
        "\n",
        "avg / total       0.86      0.84      0.84       899\n",
        "\n",
        "\n",
        "Confusion matrix:\n",
        "[[85  0  2  0  0  1  0  0  0  0]\n",
        " [ 0 75  2  2  1  0  0  0  3  8]\n",
        " [ 1  1 77  1  0  1  0  2  1  2]\n",
        " [ 0  3  5 67  0  1  0  2  3 10]\n",
        " [ 4  0  0  0 65  0  1  3  3 16]\n",
        " [ 0  0  0  0  2 80  2  0  0  7]\n",
        " [ 0  1  0  0  0  0 88  0  1  1]\n",
        " [ 0  0  0  0  0  1  1 80  3  4]\n",
        " [ 0  3  5  7  0  2  0  1 54 16]\n",
        " [ 0  0  0  3  0  4  0  1  2 82]]\n"
       ]
      }
     ],
     "prompt_number": 251
    },
    {
     "cell_type": "code",
     "collapsed": false,
     "input": [
      "print np.max(digits.images)\n",
      "seven_normalized = (3 - ((seven - np.min(seven)) * 4 / (np.max(seven) - np.min(seven)))) * 4\n",
      "seven_t = 1 - skf.threshold_adaptive(seven.astype(np.float64), 16)\n",
      "six_t = 1 - skf.threshold_adaptive(six.astype(np.float64), 16)\n",
      "print classifier_BDT.predict(np.asarray(dou(digits.images[17])).flatten())\n",
      "print classifier_BDT.predict(seven_t.flatten())"
     ],
     "language": "python",
     "metadata": {},
     "outputs": [
      {
       "output_type": "stream",
       "stream": "stdout",
       "text": [
        "16.0\n",
        "[4]\n",
        "[8]\n"
       ]
      }
     ],
     "prompt_number": 253
    },
    {
     "cell_type": "code",
     "collapsed": false,
     "input": [
      "mo = one - np.min(one)\n",
      "len((mo.astype(np.float64) / np.max(mo) * 2 - 1).flatten())"
     ],
     "language": "python",
     "metadata": {},
     "outputs": [
      {
       "metadata": {},
       "output_type": "pyout",
       "prompt_number": 82,
       "text": [
        "196"
       ]
      }
     ],
     "prompt_number": 82
    },
    {
     "cell_type": "code",
     "collapsed": false,
     "input": [
      "import os"
     ],
     "language": "python",
     "metadata": {},
     "outputs": [
      {
       "metadata": {},
       "output_type": "pyout",
       "prompt_number": 5,
       "text": [
        "<module 'posixpath' from '/home/ch/anaconda/lib/python2.7/posixpath.pyc'>"
       ]
      }
     ],
     "prompt_number": 5
    },
    {
     "cell_type": "code",
     "collapsed": false,
     "input": [
      "#### Detect where digits are.\n",
      "np.max(arr_right)"
     ],
     "language": "python",
     "metadata": {},
     "outputs": [
      {
       "metadata": {},
       "output_type": "pyout",
       "prompt_number": 59,
       "text": [
        "85"
       ]
      }
     ],
     "prompt_number": 59
    },
    {
     "cell_type": "code",
     "collapsed": false,
     "input": [
      "for (i, j) in zip(range(2) * range(3)):\n",
      "    print i, j"
     ],
     "language": "python",
     "metadata": {},
     "outputs": [
      {
       "ename": "TypeError",
       "evalue": "can't multiply sequence by non-int of type 'list'",
       "output_type": "pyerr",
       "traceback": [
        "\u001b[1;31m---------------------------------------------------------------------------\u001b[0m\n\u001b[1;31mTypeError\u001b[0m                                 Traceback (most recent call last)",
        "\u001b[1;32m<ipython-input-39-77317d2cbbf8>\u001b[0m in \u001b[0;36m<module>\u001b[1;34m()\u001b[0m\n\u001b[1;32m----> 1\u001b[1;33m \u001b[1;32mfor\u001b[0m \u001b[1;33m(\u001b[0m\u001b[0mi\u001b[0m\u001b[1;33m,\u001b[0m \u001b[0mj\u001b[0m\u001b[1;33m)\u001b[0m \u001b[1;32min\u001b[0m \u001b[0mzip\u001b[0m\u001b[1;33m(\u001b[0m\u001b[0mrange\u001b[0m\u001b[1;33m(\u001b[0m\u001b[1;36m2\u001b[0m\u001b[1;33m)\u001b[0m \u001b[1;33m*\u001b[0m \u001b[0mrange\u001b[0m\u001b[1;33m(\u001b[0m\u001b[1;36m3\u001b[0m\u001b[1;33m)\u001b[0m\u001b[1;33m)\u001b[0m\u001b[1;33m:\u001b[0m\u001b[1;33m\u001b[0m\u001b[0m\n\u001b[0m\u001b[0;32m      2\u001b[0m     \u001b[1;32mprint\u001b[0m \u001b[0mi\u001b[0m\u001b[1;33m,\u001b[0m \u001b[0mj\u001b[0m\u001b[1;33m\u001b[0m\u001b[0m\n",
        "\u001b[1;31mTypeError\u001b[0m: can't multiply sequence by non-int of type 'list'"
       ]
      }
     ],
     "prompt_number": 39
    },
    {
     "cell_type": "code",
     "collapsed": false,
     "input": [
      "\n",
      "    "
     ],
     "language": "python",
     "metadata": {},
     "outputs": [
      {
       "ename": "IndentationError",
       "evalue": "expected an indented block (<ipython-input-59-8a0cfb388cea>, line 2)",
       "output_type": "pyerr",
       "traceback": [
        "\u001b[1;36m  File \u001b[1;32m\"<ipython-input-59-8a0cfb388cea>\"\u001b[1;36m, line \u001b[1;32m2\u001b[0m\n\u001b[1;33m    \u001b[0m\n\u001b[1;37m    ^\u001b[0m\n\u001b[1;31mIndentationError\u001b[0m\u001b[1;31m:\u001b[0m expected an indented block\n"
       ]
      }
     ],
     "prompt_number": 59
    },
    {
     "cell_type": "code",
     "collapsed": false,
     "input": [],
     "language": "python",
     "metadata": {},
     "outputs": []
    }
   ],
   "metadata": {}
  }
 ]
}