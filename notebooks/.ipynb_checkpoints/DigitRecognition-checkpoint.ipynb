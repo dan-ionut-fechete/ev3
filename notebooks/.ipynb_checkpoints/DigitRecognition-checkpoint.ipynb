{
 "metadata": {
  "name": "",
  "signature": "sha256:701a7e3a91b65ebad2de86a37d41fe640ce35748bb683e32ea9b1d3058e0b169"
 },
 "nbformat": 3,
 "nbformat_minor": 0,
 "worksheets": [
  {
   "cells": [
    {
     "cell_type": "code",
     "collapsed": false,
     "input": [
      "import numpy as np\n",
      "with open('/home/ch/ev3dev/digit-recognition-training-data/train-images.idx3-ubyte', 'r') as f:\n",
      "    fstr = np.fromfile(f, np.dtype('>i4'), 2)\n",
      "    print fstr\n",
      "    sz = np.fromfile(f, np.dtype('>i4'), 2)\n",
      "    img = np.fromfile(f, np.dtype('>u1'), 28 * 28)\n",
      "    img2 = np.fromfile(f, np.dtype('>u1'), 28 * 28)\n",
      "    f.close()"
     ],
     "language": "python",
     "metadata": {},
     "outputs": [
      {
       "output_type": "stream",
       "stream": "stdout",
       "text": [
        "[ 2051 60000]\n"
       ]
      }
     ],
     "prompt_number": 25
    },
    {
     "cell_type": "code",
     "collapsed": false,
     "input": [
      "import matplotlib.pyplot as plt\n",
      "%matplotlib inline"
     ],
     "language": "python",
     "metadata": {},
     "outputs": [],
     "prompt_number": 26
    },
    {
     "cell_type": "code",
     "collapsed": false,
     "input": [
      "plt.imshow(img2.reshape(28, 28), cmap=plt.cm.gray, interpolation='none')"
     ],
     "language": "python",
     "metadata": {},
     "outputs": [
      {
       "metadata": {},
       "output_type": "pyout",
       "prompt_number": 27,
       "text": [
        "<matplotlib.image.AxesImage at 0x7ff3b1838050>"
       ]
      },
      {
       "metadata": {},
       "output_type": "display_data",
       "png": "[encoded data removed]",
       "text": [
        "<matplotlib.figure.Figure at 0x7ff3b1859850>"
       ]
      }
     ],
     "prompt_number": 27
    },
    {
     "cell_type": "code",
     "collapsed": false,
     "input": [],
     "language": "python",
     "metadata": {},
     "outputs": [],
     "prompt_number": 27
    },
    {
     "cell_type": "code",
     "collapsed": false,
     "input": [],
     "language": "python",
     "metadata": {},
     "outputs": []
    }
   ],
   "metadata": {}
  }
 ]
}