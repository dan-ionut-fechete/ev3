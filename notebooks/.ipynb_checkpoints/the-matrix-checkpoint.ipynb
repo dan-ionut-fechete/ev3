{
 "metadata": {
  "name": "",
  "signature": "sha256:385c6d8e09b4814697fc9ac8ac176d05a1a9f60bee1a34fff2151f9bb523db76"
 },
 "nbformat": 3,
 "nbformat_minor": 0,
 "worksheets": [
  {
   "cells": [
    {
     "cell_type": "code",
     "collapsed": false,
     "input": [
      "import logging\n",
      "import math\n",
      "import ast\n",
      "\n",
      "class SudokuMatrix(object):\n",
      "    \"\"\"Build monochrome matrix of the sudoku board.\n",
      "        You can add new scans to the matrix and then you can normalize the\n",
      "        results. Each scan is an arc of measurements.\n",
      "    \"\"\"\n",
      "\n",
      "    # The radius of the circle covered by the scanning device.\n",
      "    k_scanner_radius_mm = 48\n",
      "    # A map from coordinates to a list of measurements for that point in space.\n",
      "    measurements = {}\n",
      "\n",
      "    def add_scan(self, cx, cy, degrees, measures):\n",
      "        \"\"\"cx, cy center of the measuring device\n",
      "            degrees the size of the arc measured\n",
      "            measures the samples gathered while measuring (we assume these are\n",
      "                uniformly distributed along the movement arc).\n",
      "        \"\"\"\n",
      "        if len(measures) < 1:\n",
      "            logging.exception(\"No measurements provided\")\n",
      "        for i in range(0, len(measures)):\n",
      "            deg_moved = degrees * i / len(measures)\n",
      "            angle = math.radians(degrees / 2 - deg_moved)\n",
      "            a = self.k_scanner_radius_mm * math.cos(angle)\n",
      "            b = self.k_scanner_radius_mm * math.sin(angle)\n",
      "            px = cx - b\n",
      "            py = cy + a\n",
      "            # x axis sampling is twice as much as y axis\n",
      "            p = (int(math.floor(px * 2)), int(math.floor(py)))\n",
      "            if p not in self.measurements:\n",
      "                self.measurements[p] = []\n",
      "            self.measurements[p].append(measures[i])\n",
      "            print(px, py, measures[i])\n",
      "        print('Scan added')\n",
      "\n",
      "    def to_str(self):\n",
      "        return str(self.measurements)\n",
      "        \n",
      "    def dump_to_file(self, filename):\n",
      "        with open(filename, 'w') as f:\n",
      "            f.write(str(self.measurements))\n",
      "            f.close()\n",
      "\n",
      "    def load_from_file(self, filename):\n",
      "        fstr = \"\"\n",
      "        try:\n",
      "            with open(filename, 'r') as f:\n",
      "                fstr = f.read()\n",
      "                f.close()\n",
      "            self.measurements = ast.literal_eval(fstr)\n",
      "        except Exception as e:\n",
      "            print('Unable to load file:')\n",
      "            print(str(e))\n"
     ],
     "language": "python",
     "metadata": {},
     "outputs": [],
     "prompt_number": 1
    },
    {
     "cell_type": "code",
     "collapsed": false,
     "input": [
      "m = SudokuMatrix()"
     ],
     "language": "python",
     "metadata": {},
     "outputs": [],
     "prompt_number": 2
    },
    {
     "cell_type": "code",
     "collapsed": false,
     "input": [
      "m.load_from_file('/home/ch/ev3dev/share/ev3-repo/first_scan.txt')"
     ],
     "language": "python",
     "metadata": {},
     "outputs": [],
     "prompt_number": 21
    },
    {
     "cell_type": "code",
     "collapsed": false,
     "input": [
      "a = m.measurements"
     ],
     "language": "python",
     "metadata": {},
     "outputs": [],
     "prompt_number": 22
    },
    {
     "cell_type": "code",
     "collapsed": false,
     "input": [
      "aav = dict()\n",
      "minx = 1 << 20\n",
      "maxx = - (1 << 20)\n",
      "miny = 1 << 20\n",
      "maxy = - (1 << 20)"
     ],
     "language": "python",
     "metadata": {},
     "outputs": [],
     "prompt_number": 23
    },
    {
     "cell_type": "code",
     "collapsed": false,
     "input": [
      "for k, v in a.iteritems():\n",
      "    aav[k] = sum(v)/len(v)\n",
      "    minx = min(minx, k[0])\n",
      "    maxx = max(maxx, k[0])\n",
      "    miny = min(miny, k[1])\n",
      "    maxy = max(maxy, k[1])"
     ],
     "language": "python",
     "metadata": {},
     "outputs": [],
     "prompt_number": 24
    },
    {
     "cell_type": "code",
     "collapsed": false,
     "input": [
      "maxx-minx, maxy-miny"
     ],
     "language": "python",
     "metadata": {},
     "outputs": [
      {
       "metadata": {},
       "output_type": "pyout",
       "prompt_number": 25,
       "text": [
        "(72, 74)"
       ]
      }
     ],
     "prompt_number": 25
    },
    {
     "cell_type": "code",
     "collapsed": false,
     "input": [
      "arr = []\n",
      "for i in range(minx, maxx):\n",
      "    arr.append([])\n",
      "    for j in range(miny, maxy):\n",
      "        arr[i - minx].append(aav.get((i, j), 0))\n",
      "import numpy as np\n",
      "arr = np.array(arr)"
     ],
     "language": "python",
     "metadata": {},
     "outputs": [],
     "prompt_number": 26
    },
    {
     "cell_type": "code",
     "collapsed": false,
     "input": [
      "import matplotlib.pyplot as plt\n",
      "import numpy as np\n",
      "%matplotlib inline"
     ],
     "language": "python",
     "metadata": {},
     "outputs": [],
     "prompt_number": 27
    },
    {
     "cell_type": "code",
     "collapsed": false,
     "input": [
      "plt.imshow(np.rot90(arr), cmap=plt.cm.gray, interpolation='none')"
     ],
     "language": "python",
     "metadata": {},
     "outputs": [
      {
       "metadata": {},
       "output_type": "pyout",
       "prompt_number": 184,
       "text": [
        "<matplotlib.image.AxesImage at 0x7fc000971cd0>"
       ]
      },
      {
       "metadata": {},
       "output_type": "display_data",
       "png": "[encoded data removed]",
       "text": [
        "<matplotlib.figure.Figure at 0x7fc00474ac10>"
       ]
      }
     ],
     "prompt_number": 184
    },
    {
     "cell_type": "code",
     "collapsed": false,
     "input": [
      "eight = np.rot90(arr)[22:38, 7:23]\n",
      "six = np.rot90(arr)[37:53, 47:63]\n",
      "seven = np.rot90(arr)[37:53, 7:23]\n",
      "plt.imshow(seven, cmap=plt.cm.gray, interpolation='none')"
     ],
     "language": "python",
     "metadata": {},
     "outputs": [
      {
       "metadata": {},
       "output_type": "pyout",
       "prompt_number": 101,
       "text": [
        "<matplotlib.image.AxesImage at 0x7fc00474a690>"
       ]
      },
      {
       "metadata": {},
       "output_type": "display_data",
       "png": "[encoded data removed]",
       "text": [
        "<matplotlib.figure.Figure at 0x7fc004877b90>"
       ]
      }
     ],
     "prompt_number": 101
    },
    {
     "cell_type": "code",
     "collapsed": false,
     "input": [
      "from skimage import data, io\n",
      "from skimage.transform import resize\n",
      "import skimage as si\n",
      "import skimage.filter as skf\n",
      "import skimage.restoration as skr\n",
      "plt.imshow(skf.threshold_adaptive(seven.astype(np.float64), 16), cmap=plt.cm.gray, interpolation='none')"
     ],
     "language": "python",
     "metadata": {},
     "outputs": [
      {
       "metadata": {},
       "output_type": "pyout",
       "prompt_number": 209,
       "text": [
        "<matplotlib.image.AxesImage at 0x7fbfff869490>"
       ]
      },
      {
       "metadata": {},
       "output_type": "display_data",
       "png": "[encoded data removed]",
       "text": [
        "<matplotlib.figure.Figure at 0x7fbfff96a3d0>"
       ]
      }
     ],
     "prompt_number": 209
    },
    {
     "cell_type": "code",
     "collapsed": false,
     "input": [
      "# Author: Gael Varoquaux <gael dot varoquaux at normalesup dot org>\n",
      "# License: BSD 3 clause\n",
      "\n",
      "# Standard scientific Python imports\n",
      "import matplotlib.pyplot as plt\n",
      "\n",
      "# Import datasets, classifiers and performance metrics\n",
      "from sklearn import datasets, svm, metrics\n",
      "from sklearn.ensemble import GradientBoostingClassifier\n",
      "\n",
      "# The digits dataset\n",
      "digits = datasets.load_digits()\n",
      "\n",
      "# The data that we are interested in is made of 8x8 images of digits, let's\n",
      "# have a look at the first 3 images, stored in the `images` attribute of the\n",
      "# dataset.  If we were working from image files, we could load them using\n",
      "# pylab.imread.  Note that each image must have the same size. For these\n",
      "# images, we know which digit they represent: it is given in the 'target' of\n",
      "# the dataset.\n",
      "def dou(matrix):\n",
      "    dr = []\n",
      "    for row in matrix:\n",
      "        q = []\n",
      "        for j in row:\n",
      "            q += [j, j]        \n",
      "        dr += [q, q]\n",
      "    return dr\n",
      "\n",
      "images_and_labels = list(zip(digits.images, digits.target))\n",
      "for index, (image, label) in enumerate(images_and_labels[:4]):\n",
      "    plt.subplot(2, 4, index + 1)\n",
      "    plt.axis('off')\n",
      "    plt.imshow(dou(image), cmap=plt.cm.gray_r, interpolation='none')\n",
      "    plt.title('Training: %i' % label)\n",
      "\n",
      "# To apply a classifier on this data, we need to flatten the image, to\n",
      "# turn the data in a (samples, feature) matrix:\n",
      "n_samples = len(digits.images)\n",
      "\n",
      "# Resize the images\n",
      "big_images = np.asarray([skf.threshold_adaptive(np.asarray(dou(im)), 16).astype(np.int32) for im in digits.images])\n",
      "data = big_images.reshape((n_samples, -1))\n",
      "\n",
      "# Create a classifier: a support vector classifier\n",
      "classifier = svm.SVC(gamma=0.001)\n",
      "\n",
      "# We learn the digits on the first half of the digits\n",
      "classifier.fit(data[:n_samples / 2], digits.target[:n_samples / 2])\n",
      "\n",
      "# Now predict the value of the digit on the second half:\n",
      "expected = digits.target[n_samples / 2:]\n",
      "predicted = classifier.predict(data[n_samples / 2:])\n",
      "\n",
      "print(\"Classification report for classifier %s:\\n%s\\n\"\n",
      "      % (classifier, metrics.classification_report(expected, predicted)))\n",
      "print(\"Confusion matrix:\\n%s\" % metrics.confusion_matrix(expected, predicted))\n",
      "\n",
      "images_and_predictions = list(zip(digits.images[n_samples / 2:], predicted))\n",
      "for index, (image, prediction) in enumerate(images_and_predictions[:4]):\n",
      "    plt.subplot(2, 4, index + 5)\n",
      "    plt.axis('off')\n",
      "    plt.imshow(image, cmap=plt.cm.gray_r, interpolation='nearest')\n",
      "    plt.title('Prediction: %i' % prediction)\n",
      "\n",
      "plt.show()"
     ],
     "language": "python",
     "metadata": {},
     "outputs": [
      {
       "output_type": "stream",
       "stream": "stdout",
       "text": [
        "Classification report for classifier SVC(C=1.0, cache_size=200, class_weight=None, coef0=0.0, degree=3,\n",
        "  gamma=0.001, kernel='rbf', max_iter=-1, probability=False,\n",
        "  random_state=None, shrinking=True, tol=0.001, verbose=False):\n",
        "             precision    recall  f1-score   support\n",
        "\n",
        "          0       0.97      0.98      0.97        88\n",
        "          1       0.93      0.85      0.89        91\n",
        "          2       0.87      0.87      0.87        86\n",
        "          3       0.87      0.85      0.86        91\n",
        "          4       0.99      0.92      0.96        92\n",
        "          5       0.85      0.87      0.86        91\n",
        "          6       0.97      0.98      0.97        91\n",
        "          7       0.89      0.94      0.92        89\n",
        "          8       0.92      0.74      0.82        88\n",
        "          9       0.72      0.91      0.81        92\n",
        "\n",
        "avg / total       0.90      0.89      0.89       899\n",
        "\n",
        "\n",
        "Confusion matrix:\n",
        "[[86  0  0  0  0  1  0  0  1  0]\n",
        " [ 0 77  6  1  0  0  1  0  1  5]\n",
        " [ 1  0 75  6  0  0  0  0  1  3]\n",
        " [ 0  1  1 77  0  3  0  4  1  4]\n",
        " [ 2  1  0  0 85  1  0  2  1  0]\n",
        " [ 0  0  0  0  0 79  1  0  0 11]\n",
        " [ 0  1  1  0  0  0 89  0  0  0]\n",
        " [ 0  1  1  0  1  2  0 84  0  0]\n",
        " [ 0  2  2  3  0  4  1  2 65  9]\n",
        " [ 0  0  0  2  0  3  0  2  1 84]]\n"
       ]
      },
      {
       "metadata": {},
       "output_type": "display_data",
       "png": "[encoded data removed]",
       "text": [
        "<matplotlib.figure.Figure at 0x7fbfffd69910>"
       ]
      }
     ],
     "prompt_number": 232
    },
    {
     "cell_type": "code",
     "collapsed": false,
     "input": [
      "print np.max(digits.images)\n",
      "seven_normalized = (3 - ((seven - np.min(seven)) * 4 / (np.max(seven) - np.min(seven)))) * 4\n",
      "print classifier.predict(np.asarray(dou(digits.images[17])).flatten())\n",
      "print classifier.predict(seven_normalized.astype(np.float64).flatten())"
     ],
     "language": "python",
     "metadata": {},
     "outputs": [
      {
       "output_type": "stream",
       "stream": "stdout",
       "text": [
        "16.0\n",
        "[7]\n",
        "[8]\n"
       ]
      }
     ],
     "prompt_number": 170
    },
    {
     "cell_type": "code",
     "collapsed": false,
     "input": [
      "seven_normalized"
     ],
     "language": "python",
     "metadata": {},
     "outputs": [
      {
       "metadata": {},
       "output_type": "pyout",
       "prompt_number": 171,
       "text": [
        "array([[ 0,  0,  0,  0,  0,  0,  0,  0,  0,  0,  0,  0,  0,  0,  0,  0],\n",
        "       [ 0,  0,  0,  0,  0,  0,  0,  0,  0,  0,  0,  0,  0,  0,  0,  0],\n",
        "       [ 0,  0,  0,  0,  0,  0,  0,  0,  0,  0,  0,  0,  0,  0,  0,  0],\n",
        "       [ 0,  0,  0,  0,  4,  0,  4,  4,  8,  4,  8,  4,  4,  4,  0,  0],\n",
        "       [ 0,  0,  0,  4,  8,  8, 12,  8, 12, 12,  8,  8,  4,  4,  0,  0],\n",
        "       [ 0,  0,  4,  8,  8,  8,  8,  8,  8,  8, 12, 12,  4,  0,  0,  0],\n",
        "       [ 0,  0,  0,  4,  0,  0,  4,  8,  8, 12, 12, 12,  4,  0,  0,  0],\n",
        "       [ 0,  0,  0,  0,  0,  0,  0,  4, 12, 12,  8,  4,  0,  0,  0,  0],\n",
        "       [ 0,  0,  0,  0,  0,  0,  4,  8, 12, 12,  8,  4,  0,  0,  0,  0],\n",
        "       [ 0,  0, -4,  0,  0,  0, 12, 12, 12, 12,  4,  4,  0,  0,  0,  0],\n",
        "       [ 0,  0,  0,  0,  4,  4, 12, 12, 12,  8,  4,  0,  0,  0,  0,  0],\n",
        "       [ 0,  0,  0,  0,  8,  8, 12, 12,  8,  4,  0,  0,  0,  0,  0,  0],\n",
        "       [ 0,  0,  0,  4,  8, 12, 12, 12,  4,  0,  0,  0,  0,  0,  0,  0],\n",
        "       [ 0,  0,  0,  4,  4,  8,  4,  4,  0,  0,  0,  0,  0,  0,  0,  0],\n",
        "       [ 0,  0,  0,  0,  0,  0,  0,  0,  0,  0,  0,  0,  0,  0,  0,  0],\n",
        "       [ 0,  0,  0,  0,  4,  0,  4,  0,  4,  0,  4,  0,  4,  4,  0,  0]])"
       ]
      }
     ],
     "prompt_number": 171
    },
    {
     "cell_type": "code",
     "collapsed": false,
     "input": [
      "np.asarray(dou(digits.images[17])).astype(np.int32)"
     ],
     "language": "python",
     "metadata": {},
     "outputs": [
      {
       "metadata": {},
       "output_type": "pyout",
       "prompt_number": 168,
       "text": [
        "array([[ 0,  0,  0,  0,  1,  1,  8,  8, 15, 15, 10, 10,  0,  0,  0,  0],\n",
        "       [ 0,  0,  0,  0,  1,  1,  8,  8, 15, 15, 10, 10,  0,  0,  0,  0],\n",
        "       [ 0,  0,  3,  3, 13, 13, 15, 15, 14, 14, 14, 14,  0,  0,  0,  0],\n",
        "       [ 0,  0,  3,  3, 13, 13, 15, 15, 14, 14, 14, 14,  0,  0,  0,  0],\n",
        "       [ 0,  0,  5,  5, 10, 10,  0,  0, 10, 10, 12, 12,  0,  0,  0,  0],\n",
        "       [ 0,  0,  5,  5, 10, 10,  0,  0, 10, 10, 12, 12,  0,  0,  0,  0],\n",
        "       [ 0,  0,  0,  0,  3,  3,  5,  5, 15, 15, 10, 10,  2,  2,  0,  0],\n",
        "       [ 0,  0,  0,  0,  3,  3,  5,  5, 15, 15, 10, 10,  2,  2,  0,  0],\n",
        "       [ 0,  0,  0,  0, 16, 16, 16, 16, 16, 16, 16, 16, 12, 12,  0,  0],\n",
        "       [ 0,  0,  0,  0, 16, 16, 16, 16, 16, 16, 16, 16, 12, 12,  0,  0],\n",
        "       [ 0,  0,  1,  1,  8,  8, 12, 12, 14, 14,  8,  8,  3,  3,  0,  0],\n",
        "       [ 0,  0,  1,  1,  8,  8, 12, 12, 14, 14,  8,  8,  3,  3,  0,  0],\n",
        "       [ 0,  0,  0,  0,  0,  0, 10, 10, 13, 13,  0,  0,  0,  0,  0,  0],\n",
        "       [ 0,  0,  0,  0,  0,  0, 10, 10, 13, 13,  0,  0,  0,  0,  0,  0],\n",
        "       [ 0,  0,  0,  0,  0,  0, 11, 11,  9,  9,  0,  0,  0,  0,  0,  0],\n",
        "       [ 0,  0,  0,  0,  0,  0, 11, 11,  9,  9,  0,  0,  0,  0,  0,  0]], dtype=int32)"
       ]
      }
     ],
     "prompt_number": 168
    },
    {
     "cell_type": "code",
     "collapsed": false,
     "input": [
      "for index, (image, label) in enumerate(images_and_labels[16:20]):\n",
      "    plt.subplot(2, 4, index + 1)\n",
      "    plt.axis('off')\n",
      "    plt.imshow(dou(seven_normalized), cmap=plt.cm.gray_r, interpolation='nearest')\n",
      "    plt.title('Training: %i' % label)"
     ],
     "language": "python",
     "metadata": {},
     "outputs": [
      {
       "metadata": {},
       "output_type": "display_data",
       "png": "[encoded data removed]",
       "text": [
        "<matplotlib.figure.Figure at 0x7fc00012e310>"
       ]
      }
     ],
     "prompt_number": 172
    },
    {
     "cell_type": "code",
     "collapsed": false,
     "input": [
      "from sklearn.ensemble import GradientBoostingClassifier\n",
      "# BDT\n",
      "classifier_BDT = GradientBoostingClassifier(n_estimators=100, learning_rate=1.0, max_depth=12, random_state=0)\n",
      "\n",
      "# We learn the digits on the first half of the digits\n",
      "classifier_BDT.fit(data[:n_samples / 2], digits.target[:n_samples / 2])\n",
      "\n",
      "# Now predict the value of the digit on the second half:\n",
      "expected = digits.target[n_samples / 2:]\n",
      "predicted = classifier_BDT.predict(data[n_samples / 2:])\n",
      "\n",
      "print(\"Classification report for classifier %s:\\n%s\\n\"\n",
      "      % (classifier_BDT, metrics.classification_report(expected, predicted)))\n",
      "print(\"Confusion matrix:\\n%s\" % metrics.confusion_matrix(expected, predicted))"
     ],
     "language": "python",
     "metadata": {},
     "outputs": [
      {
       "output_type": "stream",
       "stream": "stdout",
       "text": [
        "Classification report for classifier GradientBoostingClassifier(init=None, learning_rate=1.0, loss='deviance',\n",
        "              max_depth=12, max_features=None, max_leaf_nodes=None,\n",
        "              min_samples_leaf=1, min_samples_split=2, n_estimators=100,\n",
        "              random_state=0, subsample=1.0, verbose=0, warm_start=False):\n",
        "             precision    recall  f1-score   support\n",
        "\n",
        "          0       0.91      0.95      0.93        88\n",
        "          1       0.89      0.73      0.80        91\n",
        "          2       0.94      0.86      0.90        86\n",
        "          3       0.74      0.78      0.76        91\n",
        "          4       0.94      0.79      0.86        92\n",
        "          5       0.82      0.78      0.80        91\n",
        "          6       0.85      0.91      0.88        91\n",
        "          7       0.82      0.75      0.78        89\n",
        "          8       0.60      0.76      0.67        88\n",
        "          9       0.67      0.74      0.70        92\n",
        "\n",
        "avg / total       0.82      0.81      0.81       899\n",
        "\n",
        "\n",
        "Confusion matrix:\n",
        "[[84  0  1  0  0  0  0  0  3  0]\n",
        " [ 1 66  2  3  2  3  3  2  0  9]\n",
        " [ 1  0 74  6  0  0  0  0  2  3]\n",
        " [ 1  2  0 71  0  1  0  2  7  7]\n",
        " [ 3  0  0  1 73  0  9  1  1  4]\n",
        " [ 0  1  1  1  2 71  2  3  6  4]\n",
        " [ 0  3  1  0  0  0 83  0  3  1]\n",
        " [ 0  0  0  1  1  3  0 67 16  1]\n",
        " [ 0  1  0  6  0  5  1  4 67  4]\n",
        " [ 2  1  0  7  0  4  0  3  7 68]]\n"
       ]
      }
     ],
     "prompt_number": 179
    },
    {
     "cell_type": "code",
     "collapsed": false,
     "input": [
      "print np.max(digits.images)\n",
      "seven_normalized = (3 - ((seven - np.min(seven)) * 4 / (np.max(seven) - np.min(seven)))) * 4\n",
      "seven_t = 1 - skf.threshold_adaptive(seven.astype(np.float64), 16)\n",
      "six_t = 1 - skf.threshold_adaptive(six.astype(np.float64), 16)\n",
      "print classifier_BDT.predict(np.asarray(dou(digits.images[17])).flatten())\n",
      "print classifier.predict(six_t.flatten())"
     ],
     "language": "python",
     "metadata": {},
     "outputs": [
      {
       "output_type": "stream",
       "stream": "stdout",
       "text": [
        "16.0\n",
        "[7]\n",
        "[4]\n"
       ]
      }
     ],
     "prompt_number": 234
    },
    {
     "cell_type": "code",
     "collapsed": false,
     "input": [],
     "language": "python",
     "metadata": {},
     "outputs": [
      {
       "output_type": "stream",
       "stream": "stdout",
       "text": [
        "/bin/sh: 1: seven_t: not found\r\n"
       ]
      }
     ],
     "prompt_number": 230
    },
    {
     "cell_type": "code",
     "collapsed": false,
     "input": [],
     "language": "python",
     "metadata": {},
     "outputs": []
    }
   ],
   "metadata": {}
  }
 ]
}